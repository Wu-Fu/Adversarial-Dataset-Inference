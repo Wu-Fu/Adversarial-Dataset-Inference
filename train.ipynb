{
 "cells": [
  {
   "cell_type": "code",
   "execution_count": null,
   "metadata": {
    "collapsed": true,
    "pycharm": {
     "name": "#%%\n",
     "is_executing": true
    }
   },
   "outputs": [],
   "source": [
    "import sys\n",
    "import time\n",
    "sys.path.append('')\n",
    "import torch\n",
    "import torchvision\n",
    "import torchvision.transforms as transforms\n",
    "import torch.nn as nn\n",
    "import torch.nn.functional as F\n",
    "from torch.autograd import Variable\n",
    "import torch.optim as optim\n",
    "import matplotlib.pyplot as plt\n",
    "import numpy as np\n",
    "from tqdm.auto import tqdm\n",
    "import os\n",
    "from funcs import get_student_teacher"
   ]
  },
  {
   "cell_type": "markdown",
   "source": [
    "## 训练模型"
   ],
   "metadata": {
    "collapsed": false,
    "pycharm": {
     "name": "#%% md\n"
    }
   }
  },
  {
   "cell_type": "code",
   "execution_count": null,
   "outputs": [],
   "source": [
    "import argparse\n",
    "parse = argparse.ArgumentParser()\n",
    "parse.add_argument('--dataset_path', type=str, default='../StealingVerification-main/data/cifar10/', help=\"dataset path\")\n",
    "parse.add_argument('--dataset', type=str, default='CIFAR10', choices=['CIFAR10','self'], help=\"dataset的名称\")\n",
    "parse.add_argument('--mode', type=str, default='teacher', help=\"训练方式（暂时不要修改）\")\n",
    "parse.add_argument('--model_id', type=str, default='0', help=\"模型名称，关系到保存地址\")\n",
    "parse.add_argument('--batch_size', type=int, default=128)\n",
    "parse.add_argument('--epoch', type=int, default=135)\n",
    "parse.add_argument('--device', type=str, default='cuda')\n",
    "parse.add_argument('--learning_rate', type=float, default=0.01)\n",
    "parse.add_argument('--save_path', type=str, default='./model_train/', help=\"保存的大路径\")\n",
    "parse.add_argument('--model_root', type=str, default='', help=\"模型地址\")\n",
    "parse.add_argument('--num_classes', type=int, default=10)\n",
    "parse.add_argument('--normalize', type=int, default=1)\n",
    "args = parse.parse_args(args=['--dataset_path','../StealingVerification-main/data/cifar10_seurat_10%/',\n",
    "                              '--dataset', 'CIFAR10',\n",
    "                              '--mode', 'teacher',\n",
    "                              '--model_id', 'test',\n",
    "                              '--batch_size', '128',\n",
    "                              '--epoch', '135',\n",
    "                              '--device', 'cuda',\n",
    "                              '--learning_rate', '0.01',\n",
    "                              '--save_path', './trained/',\n",
    "                              '--model_root', '',\n",
    "                              '--num_classes', '10',\n",
    "                              '--normalize', '1'])\n",
    "\n",
    "print(args)"
   ],
   "metadata": {
    "collapsed": false,
    "pycharm": {
     "name": "#%%\n"
    }
   }
  },
  {
   "cell_type": "code",
   "execution_count": null,
   "outputs": [],
   "source": [
    "def load_dataset(args):\n",
    "    if args.dataset == \"CIFAR10\":\n",
    "        transform_train = transforms.Compose([\n",
    "        transforms.RandomCrop(32, padding=4),   #先四周填充0，在吧图像随机裁剪成32*32\n",
    "        transforms.RandomHorizontalFlip(),      #图像一半的概率翻转，一半的概率不翻转\n",
    "        transforms.ToTensor(),\n",
    "        transforms.Normalize((0.4914, 0.4822, 0.4465), (0.2023, 0.1994, 0.2010)),\n",
    "            #R,G,B每层的归一化用到的均值和方差\n",
    "        ])\n",
    "\n",
    "        transform_test = transforms.Compose([\n",
    "            transforms.ToTensor(),\n",
    "            transforms.Normalize((0.4914, 0.4822, 0.4465), (0.2023, 0.1994, 0.2010)),\n",
    "        ])\n",
    "        train_dataset = torchvision.datasets.CIFAR10(root='../data/',\n",
    "                                                train=True,\n",
    "                                                transform=transform_train,\n",
    "                                                download=True)\n",
    "\n",
    "        test_dataset = torchvision.datasets.CIFAR10(root='../data/',\n",
    "                                                train=False,\n",
    "                                                transform=transform_test)\n",
    "    if args.dataset == \"self\":\n",
    "        # 当数据集为私有时，在此处设置transform\n",
    "        train_dataset = torchvision.datasets.ImageFolder(root=args.dataset_path+'train',\n",
    "                                    transform=transforms.Compose([\n",
    "                                        transforms.RandomCrop(32, padding=4),\n",
    "                                        transforms.RandomHorizontalFlip(),\n",
    "                                        transforms.ToTensor(),\n",
    "                                       transforms.Normalize((0.4914, 0.4822, 0.4465), (0.2023, 0.1994, 0.2010)),\n",
    "                                    ]))\n",
    "        test_dataset = torchvision.datasets.ImageFolder(root=args.dataset_path+'test',\n",
    "                                    transform=transforms.Compose([\n",
    "                                        transforms.ToTensor(),\n",
    "                                        transforms.Normalize((0.4914, 0.4822, 0.4465), (0.2023, 0.1994, 0.2010)),\n",
    "                                    ]))\n",
    "\n",
    "    train_loader = torch.utils.data.DataLoader(train_dataset, batch_size=args.batch_size, shuffle=True,\n",
    "                                               num_workers=0, drop_last=True)\n",
    "    test_loader = torch.utils.data.DataLoader(test_dataset, batch_size=args.batch_size, shuffle=True,\n",
    "                                              num_workers=0)\n",
    "    return train_loader, test_loader"
   ],
   "metadata": {
    "collapsed": false,
    "pycharm": {
     "name": "#%%\n",
     "is_executing": true
    }
   }
  },
  {
   "cell_type": "code",
   "execution_count": null,
   "outputs": [],
   "source": [
    "def get_model(args):\n",
    "    # 获取模型，因为自己写的太差，所以调用了train.py的get_student_teacher\n",
    "    # 当dataset为cifar10的时候model为WideResNet\n",
    "    # 当自己为完整保存时，应该直接使用torch.load()加载\n",
    "    if not args.model_root == \"\":\n",
    "        model,_ = get_student_teacher(args)\n",
    "        model.load_state_dict(torch.load(args.model_root), strict=False)\n",
    "        return model\n",
    "    else:\n",
    "        print(\"未设置模型地址\")\n",
    "        return None"
   ],
   "metadata": {
    "collapsed": false,
    "pycharm": {
     "name": "#%%\n"
    }
   }
  },
  {
   "cell_type": "code",
   "execution_count": null,
   "outputs": [],
   "source": [
    "def update_lr(optimizer, lr):\n",
    "# 更新学习率\n",
    "    for param_group in optimizer.param_groups:\n",
    "        param_group['lr'] = lr\n",
    "\n",
    "def train(model, args):\n",
    "    # 训练模型，这边代码写的不太行，ResNet训练Cifar10只有89%左右正确率\n",
    "    save_path = args.save_path + args.dataset + '/' + args.model_id + '/'\n",
    "    train_loader, test_loader = load_dataset(args)\n",
    "    total_step = len(train_loader)\n",
    "    lr = args.learning_rate\n",
    "    criterion = nn.CrossEntropyLoss()\n",
    "    optimizer = optim.SGD(model.parameters(), lr=args.learning_rate, momentum=0.9, weight_decay=5e-4)\n",
    "    with tqdm(range(args.epoch), leave=True) as pbar:\n",
    "        running_loss = 0.0\n",
    "        for epochs in pbar:\n",
    "            it_pbar = tqdm(train_loader, leave=False)\n",
    "            for i ,(images, labels) in enumerate(it_pbar):\n",
    "                images = Variable(images)\n",
    "                labels = Variable(labels)\n",
    "                images = images.to(args.device)\n",
    "                labels = labels.to(args.device)\n",
    "\n",
    "                optimizer.zero_grad()\n",
    "                outputs = model(images)\n",
    "                loss = criterion(outputs, labels)\n",
    "                loss.backward()\n",
    "                optimizer.step()\n",
    "\n",
    "                if (epochs+1) % 20 == 0:\n",
    "                    lr /= 3\n",
    "                    update_lr(optimizer, lr)\n",
    "                it_pbar.set_description('loss {}'.format(loss.item()))\n",
    "                running_loss = loss\n",
    "            it_pbar.close()\n",
    "            model.eval()\n",
    "            accuracy = test(model, test_loader, args)\n",
    "            model.train()\n",
    "            pbar.set_description('epoch {} loss {} accuracy {} %'.format(epochs, running_loss.item(),\n",
    "                                                                      accuracy))\n",
    "    if not os.path.exists(save_path):\n",
    "        os.makedirs(save_path)\n",
    "    torch.save(model.state_dict(), save_path + 'final.pt')\n",
    "    torch.save(model, save_path + 'model.pt')\n",
    "    model.eval()\n",
    "\n",
    "\n",
    "def test(model, test_loader, args):\n",
    "    model.eval()\n",
    "    with torch.no_grad():\n",
    "        correct = 0\n",
    "        total = 0\n",
    "        for images, labels in test_loader:\n",
    "            images = Variable(images)\n",
    "            labels = Variable(labels)\n",
    "            images = images.to(args.device)\n",
    "            labels = labels.to(args.device)\n",
    "            outputs = model(images)\n",
    "            _,predicted = torch.max(outputs.data, 1)\n",
    "            total += labels.size(0)\n",
    "            correct += (predicted == labels).sum().item()\n",
    "        accuracy = 100 * correct / total\n",
    "        print(\"Accuracy: {} %\".format(accuracy))\n",
    "    return accuracy\n"
   ],
   "metadata": {
    "collapsed": false,
    "pycharm": {
     "name": "#%%\n"
    }
   }
  },
  {
   "cell_type": "code",
   "execution_count": null,
   "outputs": [],
   "source": [
    "model, _ = get_student_teacher(args)\n",
    "train(model, args)"
   ],
   "metadata": {
    "collapsed": false,
    "pycharm": {
     "name": "#%%\n"
    }
   }
  },
  {
   "cell_type": "code",
   "execution_count": null,
   "outputs": [],
   "source": [
    "model = get_model(args)\n",
    "test(model, args)"
   ],
   "metadata": {
    "collapsed": false,
    "pycharm": {
     "name": "#%%\n"
    }
   }
  }
 ],
 "metadata": {
  "kernelspec": {
   "display_name": "Python 3",
   "language": "python",
   "name": "python3"
  },
  "language_info": {
   "codemirror_mode": {
    "name": "ipython",
    "version": 2
   },
   "file_extension": ".py",
   "mimetype": "text/x-python",
   "name": "python",
   "nbconvert_exporter": "python",
   "pygments_lexer": "ipython2",
   "version": "2.7.6"
  }
 },
 "nbformat": 4,
 "nbformat_minor": 0
}
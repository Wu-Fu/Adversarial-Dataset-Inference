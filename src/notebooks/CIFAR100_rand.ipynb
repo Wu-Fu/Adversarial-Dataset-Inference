{
 "cells": [
  {
   "cell_type": "code",
   "execution_count": 1,
   "id": "given-exhaust",
   "metadata": {
    "execution": {
     "iopub.execute_input": "2021-03-18T08:36:38.531924Z",
     "iopub.status.busy": "2021-03-18T08:36:38.531441Z",
     "iopub.status.idle": "2021-03-18T08:36:38.534741Z",
     "shell.execute_reply": "2021-03-18T08:36:38.534087Z"
    },
    "papermill": {
     "duration": 0.055039,
     "end_time": "2021-03-18T08:36:38.534885",
     "exception": false,
     "start_time": "2021-03-18T08:36:38.479846",
     "status": "completed"
    },
    "tags": [
     "parameters"
    ],
    "pycharm": {
     "name": "#%%\n"
    }
   },
   "outputs": [],
   "source": [
    "# Parameters\n",
    "dataset = \"CIFAR10\" # CIFAR10, CIFAR100, SVHN\n",
    "v_type = \"mingd\" # mingd, rand\n",
    "root_path = \"\"\n",
    "params_path = \"\"\n",
    "split_index = 500\n"
   ]
  },
  {
   "cell_type": "code",
   "execution_count": 2,
   "id": "honest-embassy",
   "metadata": {
    "execution": {
     "iopub.execute_input": "2021-03-18T08:36:38.604797Z",
     "iopub.status.busy": "2021-03-18T08:36:38.604320Z",
     "iopub.status.idle": "2021-03-18T08:36:38.607716Z",
     "shell.execute_reply": "2021-03-18T08:36:38.607047Z"
    },
    "papermill": {
     "duration": 0.037466,
     "end_time": "2021-03-18T08:36:38.607859",
     "exception": false,
     "start_time": "2021-03-18T08:36:38.570393",
     "status": "completed"
    },
    "tags": [
     "injected-parameters"
    ],
    "pycharm": {
     "name": "#%%\n"
    }
   },
   "outputs": [],
   "source": [
    "# Parameters\n",
    "dataset = \"CIFAR100\"\n",
    "v_type = \"rand\"\n",
    "root_path = \"/home/mohammad/transferability/files\"\n",
    "params_path = \"/home/mohammad/transferability/src\"\n",
    "split_index = 500\n"
   ]
  },
  {
   "cell_type": "code",
   "execution_count": 3,
   "id": "solar-chess",
   "metadata": {
    "execution": {
     "iopub.execute_input": "2021-03-18T08:36:38.692617Z",
     "iopub.status.busy": "2021-03-18T08:36:38.691401Z",
     "iopub.status.idle": "2021-03-18T08:36:38.696560Z",
     "shell.execute_reply": "2021-03-18T08:36:38.697541Z"
    },
    "papermill": {
     "duration": 0.053277,
     "end_time": "2021-03-18T08:36:38.697838",
     "exception": false,
     "start_time": "2021-03-18T08:36:38.644561",
     "status": "completed"
    },
    "tags": [],
    "pycharm": {
     "name": "#%%\n"
    }
   },
   "outputs": [
    {
     "data": {
      "text/markdown": [
       "# CIFAR100 - Blind Walk results"
      ],
      "text/plain": [
       "<IPython.core.display.Markdown object>"
      ]
     },
     "metadata": {},
     "output_type": "display_data"
    }
   ],
   "source": [
    "from IPython.display import display, Markdown\n",
    "v_type2disp = dict(mingd=\"MinGD\", rand=\"Blind Walk\")\n",
    "display(Markdown(f\"# {dataset} - {v_type2disp[v_type]} results\"))"
   ]
  },
  {
   "cell_type": "code",
   "execution_count": 4,
   "id": "inner-settle",
   "metadata": {
    "execution": {
     "iopub.execute_input": "2021-03-18T08:36:38.770770Z",
     "iopub.status.busy": "2021-03-18T08:36:38.770327Z",
     "iopub.status.idle": "2021-03-18T08:36:39.389146Z",
     "shell.execute_reply": "2021-03-18T08:36:39.388053Z"
    },
    "papermill": {
     "duration": 0.656272,
     "end_time": "2021-03-18T08:36:39.389418",
     "exception": false,
     "start_time": "2021-03-18T08:36:38.733146",
     "status": "completed"
    },
    "tags": [],
    "pycharm": {
     "name": "#%%\n"
    }
   },
   "outputs": [],
   "source": [
    "import os, sys\n",
    "sys.path.insert(0, params_path)\n",
    "\n",
    "import argparse, params, time\n",
    "import numpy as np\n",
    "import torch\n",
    "import torch.nn as nn\n",
    "import torch.optim as optim\n",
    "from importlib import reload\n",
    "from tqdm.auto import tqdm\n",
    "\n",
    "import random\n",
    "\n",
    "torch.manual_seed(0)\n",
    "np.random.seed(0)\n",
    "random.seed(0)"
   ]
  },
  {
   "cell_type": "code",
   "execution_count": 5,
   "id": "naked-joining",
   "metadata": {
    "execution": {
     "iopub.execute_input": "2021-03-18T08:36:39.460919Z",
     "iopub.status.busy": "2021-03-18T08:36:39.460427Z",
     "iopub.status.idle": "2021-03-18T08:36:40.084901Z",
     "shell.execute_reply": "2021-03-18T08:36:40.083830Z"
    },
    "papermill": {
     "duration": 0.658973,
     "end_time": "2021-03-18T08:36:40.085157",
     "exception": false,
     "start_time": "2021-03-18T08:36:39.426184",
     "status": "completed"
    },
    "tags": [],
    "pycharm": {
     "name": "#%%\n"
    }
   },
   "outputs": [],
   "source": [
    "import seaborn as sns\n",
    "import pandas as pd\n",
    "import os"
   ]
  },
  {
   "cell_type": "code",
   "execution_count": 6,
   "id": "vulnerable-niger",
   "metadata": {
    "execution": {
     "iopub.execute_input": "2021-03-18T08:36:40.157957Z",
     "iopub.status.busy": "2021-03-18T08:36:40.157501Z",
     "iopub.status.idle": "2021-03-18T08:36:40.159442Z",
     "shell.execute_reply": "2021-03-18T08:36:40.159773Z"
    },
    "papermill": {
     "duration": 0.036919,
     "end_time": "2021-03-18T08:36:40.159896",
     "exception": false,
     "start_time": "2021-03-18T08:36:40.122977",
     "status": "completed"
    },
    "tags": [],
    "pycharm": {
     "name": "#%%\n"
    }
   },
   "outputs": [],
   "source": [
    "from scipy.stats import combine_pvalues, ttest_ind_from_stats, ttest_ind\n",
    "from functools import reduce\n",
    "from scipy.stats import hmean"
   ]
  },
  {
   "cell_type": "markdown",
   "id": "perceived-threshold",
   "metadata": {
    "papermill": {
     "duration": 0.029022,
     "end_time": "2021-03-18T08:36:40.223942",
     "exception": false,
     "start_time": "2021-03-18T08:36:40.194920",
     "status": "completed"
    },
    "tags": [],
    "pycharm": {
     "name": "#%% md\n"
    }
   },
   "source": [
    "## Use the full vectors to train a linear model"
   ]
  },
  {
   "cell_type": "code",
   "execution_count": 7,
   "id": "located-wages",
   "metadata": {
    "execution": {
     "iopub.execute_input": "2021-03-18T08:36:40.290097Z",
     "iopub.status.busy": "2021-03-18T08:36:40.289652Z",
     "iopub.status.idle": "2021-03-18T08:36:40.291992Z",
     "shell.execute_reply": "2021-03-18T08:36:40.292330Z"
    },
    "papermill": {
     "duration": 0.038491,
     "end_time": "2021-03-18T08:36:40.292472",
     "exception": false,
     "start_time": "2021-03-18T08:36:40.253981",
     "status": "completed"
    },
    "tags": [],
    "pycharm": {
     "name": "#%%\n"
    }
   },
   "outputs": [],
   "source": [
    "root = os.path.join(root_path,dataset)\n",
    "model_types = ['zero-shot', 'prune', 'fine-tune', 'extract-label', 'extract-logit', 'distillation', 'teacher']"
   ]
  },
  {
   "cell_type": "code",
   "execution_count": 8,
   "id": "tamil-monte",
   "metadata": {
    "execution": {
     "iopub.execute_input": "2021-03-18T08:36:40.365734Z",
     "iopub.status.busy": "2021-03-18T08:36:40.365289Z",
     "iopub.status.idle": "2021-03-18T08:36:40.376130Z",
     "shell.execute_reply": "2021-03-18T08:36:40.376954Z"
    },
    "papermill": {
     "duration": 0.049815,
     "end_time": "2021-03-18T08:36:40.377212",
     "exception": false,
     "start_time": "2021-03-18T08:36:40.327397",
     "status": "completed"
    },
    "tags": [],
    "pycharm": {
     "name": "#%%\n"
    }
   },
   "outputs": [],
   "source": [
    "if v_type == \"mingd\" and dataset == \"CIFAR100\": v_type = \"topgd\"\n",
    "    \n",
    "names = [\"teacher\",\"distillation\",\"extract-label\",\"extract-logit\",\"zero-shot\",\"fine-tune\",\"pre-act-18\",\"independent\"]\n",
    "trains = {}\n",
    "tests = {}\n",
    "for name in names:\n",
    "    trains[name] = (torch.load(f\"{root}/model_{name}_normalized/train_{v_type}_vulnerability.pt\"))\n",
    "    tests[name] = (torch.load(f\"{root}/model_{name}_normalized/test_{v_type}_vulnerability.pt\"))\n",
    "mean_cifar = trains[\"teacher\"].mean(dim = (0,1))\n",
    "std_cifar = trains[\"teacher\"].std(dim = (0,1))"
   ]
  },
  {
   "cell_type": "code",
   "execution_count": 9,
   "id": "russian-peoples",
   "metadata": {
    "execution": {
     "iopub.execute_input": "2021-03-18T08:36:40.455970Z",
     "iopub.status.busy": "2021-03-18T08:36:40.455113Z",
     "iopub.status.idle": "2021-03-18T08:36:40.469361Z",
     "shell.execute_reply": "2021-03-18T08:36:40.470167Z"
    },
    "papermill": {
     "duration": 0.055836,
     "end_time": "2021-03-18T08:36:40.470425",
     "exception": false,
     "start_time": "2021-03-18T08:36:40.414589",
     "status": "completed"
    },
    "tags": [],
    "pycharm": {
     "name": "#%%\n"
    }
   },
   "outputs": [],
   "source": [
    "if v_type == \"mingd\":\n",
    "    for name in names:\n",
    "        trains[name] = trains[name].sort(dim = 1)[0]\n",
    "        tests[name] = tests[name].sort(dim = 1)[0]\n",
    "        \n",
    "for name in names:\n",
    "    trains[name] = (trains[name]- mean_cifar)/std_cifar\n",
    "    tests[name] = (tests[name]- mean_cifar)/std_cifar\n",
    "    \n",
    "f_num = 30\n",
    "a_num=30\n",
    "\n",
    "trains_n = {}\n",
    "tests_n = {}\n",
    "for name in names:\n",
    "    trains_n[name] = trains[name].T.reshape(1000,f_num)[:,:a_num]\n",
    "    tests_n[name] = tests[name].T.reshape(1000,f_num)[:,:a_num]"
   ]
  },
  {
   "cell_type": "code",
   "execution_count": 10,
   "id": "separate-technique",
   "metadata": {
    "execution": {
     "iopub.execute_input": "2021-03-18T08:36:40.556415Z",
     "iopub.status.busy": "2021-03-18T08:36:40.555242Z",
     "iopub.status.idle": "2021-03-18T08:36:40.561142Z",
     "shell.execute_reply": "2021-03-18T08:36:40.559645Z"
    },
    "papermill": {
     "duration": 0.051652,
     "end_time": "2021-03-18T08:36:40.561448",
     "exception": false,
     "start_time": "2021-03-18T08:36:40.509796",
     "status": "completed"
    },
    "tags": [],
    "pycharm": {
     "name": "#%%\n"
    }
   },
   "outputs": [],
   "source": [
    "n_ex = split_index\n",
    "train = torch.cat((trains_n[\"teacher\"][:n_ex], tests_n[\"teacher\"][:n_ex]), dim = 0)\n",
    "y = torch.cat((torch.zeros(n_ex), torch.ones(n_ex)), dim = 0)\n",
    "\n",
    "rand=torch.randperm(y.shape[0])\n",
    "train = train[rand]\n",
    "y = y[rand]"
   ]
  },
  {
   "cell_type": "code",
   "execution_count": 11,
   "id": "european-elements",
   "metadata": {
    "execution": {
     "iopub.execute_input": "2021-03-18T08:36:40.651340Z",
     "iopub.status.busy": "2021-03-18T08:36:40.650227Z",
     "iopub.status.idle": "2021-03-18T08:36:40.654105Z",
     "shell.execute_reply": "2021-03-18T08:36:40.654976Z"
    },
    "papermill": {
     "duration": 0.052054,
     "end_time": "2021-03-18T08:36:40.655259",
     "exception": false,
     "start_time": "2021-03-18T08:36:40.603205",
     "status": "completed"
    },
    "tags": [],
    "pycharm": {
     "name": "#%%\n"
    }
   },
   "outputs": [],
   "source": [
    "model = nn.Sequential(nn.Linear(a_num,100),nn.ReLU(),nn.Linear(100,1),nn.Tanh())\n",
    "criterion = nn.CrossEntropyLoss()\n",
    "optimizer =torch.optim.SGD(model.parameters(), lr=0.1)"
   ]
  },
  {
   "cell_type": "code",
   "execution_count": 12,
   "id": "funded-wilson",
   "metadata": {
    "execution": {
     "iopub.execute_input": "2021-03-18T08:36:40.794908Z",
     "iopub.status.busy": "2021-03-18T08:36:40.789275Z",
     "iopub.status.idle": "2021-03-18T08:36:44.281678Z",
     "shell.execute_reply": "2021-03-18T08:36:44.282056Z"
    },
    "papermill": {
     "duration": 3.566447,
     "end_time": "2021-03-18T08:36:44.282193",
     "exception": false,
     "start_time": "2021-03-18T08:36:40.715746",
     "status": "completed"
    },
    "scrolled": true,
    "tags": [],
    "pycharm": {
     "name": "#%%\n"
    }
   },
   "outputs": [
    {
     "data": {
      "application/vnd.jupyter.widget-view+json": {
       "model_id": "4c79693c134d4638a4183efff5cb5ca8",
       "version_major": 2,
       "version_minor": 0
      },
      "text/plain": [
       "  0%|          | 0/1000 [00:00<?, ?it/s]"
      ]
     },
     "metadata": {},
     "output_type": "display_data"
    }
   ],
   "source": [
    "with tqdm(range(1000)) as pbar:\n",
    "    for epoch in pbar:\n",
    "        optimizer.zero_grad()\n",
    "        inputs = train\n",
    "        outputs = model(inputs)\n",
    "        loss = -1 * ((2*y-1)*(outputs.squeeze(-1))).mean()\n",
    "        loss.backward()\n",
    "        optimizer.step()\n",
    "        pbar.set_description('loss {}'.format(loss.item()))"
   ]
  },
  {
   "cell_type": "markdown",
   "id": "weighted-hindu",
   "metadata": {
    "papermill": {
     "duration": 0.081011,
     "end_time": "2021-03-18T08:36:44.397983",
     "exception": false,
     "start_time": "2021-03-18T08:36:44.316972",
     "status": "completed"
    },
    "tags": [],
    "pycharm": {
     "name": "#%% md\n"
    }
   },
   "source": [
    "## Dataset Inference"
   ]
  },
  {
   "cell_type": "code",
   "execution_count": 13,
   "id": "framed-invitation",
   "metadata": {
    "execution": {
     "iopub.execute_input": "2021-03-18T08:36:44.509383Z",
     "iopub.status.busy": "2021-03-18T08:36:44.508775Z",
     "iopub.status.idle": "2021-03-18T08:36:44.510664Z",
     "shell.execute_reply": "2021-03-18T08:36:44.511124Z"
    },
    "papermill": {
     "duration": 0.063498,
     "end_time": "2021-03-18T08:36:44.511279",
     "exception": false,
     "start_time": "2021-03-18T08:36:44.447781",
     "status": "completed"
    },
    "tags": [],
    "pycharm": {
     "name": "#%%\n"
    }
   },
   "outputs": [],
   "source": [
    "def get_p(outputs_train, outputs_test):\n",
    "    pred_test = outputs_test[:,0].detach().cpu().numpy()\n",
    "    pred_train = outputs_train[:,0].detach().cpu().numpy()\n",
    "    tval, pval = ttest_ind(pred_test, pred_train, alternative=\"greater\", equal_var=False)\n",
    "    if pval < 0:\n",
    "        raise Exception(f\"p-value={pval}\")\n",
    "    return pval\n",
    "\n",
    "def get_p_values(num_ex, train, test, k):\n",
    "    total = train.shape[0]\n",
    "    sum_p = 0\n",
    "    p_values = []\n",
    "    positions_list = []\n",
    "    for i in range(k):\n",
    "        positions = torch.randperm(total)[:num_ex]\n",
    "        p_val = get_p(train[positions], test[positions])\n",
    "        positions_list.append(positions)\n",
    "        p_values.append(p_val)\n",
    "    return p_values\n",
    "\n",
    "def get_fischer(num_ex, train, test, k):\n",
    "    p_values = get_p_values(num_ex, train, test, k)\n",
    "    return combine_pvalues(p_values, method=\"mudholkar_george\")[1]\n",
    "\n",
    "def get_max_p_value(num_ex, train, test, k):\n",
    "    p_values = get_p_values(num_ex, train, test, k)\n",
    "    return max(p_values)"
   ]
  },
  {
   "cell_type": "code",
   "execution_count": 14,
   "id": "twenty-stations",
   "metadata": {
    "execution": {
     "iopub.execute_input": "2021-03-18T08:36:44.590350Z",
     "iopub.status.busy": "2021-03-18T08:36:44.589910Z",
     "iopub.status.idle": "2021-03-18T08:36:44.602434Z",
     "shell.execute_reply": "2021-03-18T08:36:44.601810Z"
    },
    "papermill": {
     "duration": 0.046619,
     "end_time": "2021-03-18T08:36:44.602591",
     "exception": false,
     "start_time": "2021-03-18T08:36:44.555972",
     "status": "completed"
    },
    "tags": [],
    "pycharm": {
     "name": "#%%\n"
    }
   },
   "outputs": [],
   "source": [
    "outputs_tr = {}\n",
    "outputs_te = {}\n",
    "for name in names:\n",
    "    outputs_tr[name] = model(trains_n[name])\n",
    "    outputs_te[name] = model(tests_n[name])"
   ]
  },
  {
   "cell_type": "code",
   "execution_count": 15,
   "id": "pretty-occurrence",
   "metadata": {
    "execution": {
     "iopub.execute_input": "2021-03-18T08:36:44.676712Z",
     "iopub.status.busy": "2021-03-18T08:36:44.676246Z",
     "iopub.status.idle": "2021-03-18T08:36:44.678841Z",
     "shell.execute_reply": "2021-03-18T08:36:44.679300Z"
    },
    "papermill": {
     "duration": 0.038908,
     "end_time": "2021-03-18T08:36:44.679471",
     "exception": false,
     "start_time": "2021-03-18T08:36:44.640563",
     "status": "completed"
    },
    "tags": [],
    "pycharm": {
     "name": "#%%\n"
    }
   },
   "outputs": [],
   "source": [
    "import scipy.stats as stats\n",
    "def print_inference(outputs_train, outputs_test):\n",
    "    m1, m2 = outputs_test[:,0].mean(), outputs_train[:,0].mean()\n",
    "    pval = get_p(outputs_train, outputs_test)\n",
    "    print(f\"p-value = {pval} \\t| Mean difference = {m1-m2}\")"
   ]
  },
  {
   "cell_type": "code",
   "execution_count": 16,
   "id": "australian-manitoba",
   "metadata": {
    "execution": {
     "iopub.execute_input": "2021-03-18T08:36:44.755920Z",
     "iopub.status.busy": "2021-03-18T08:36:44.755499Z",
     "iopub.status.idle": "2021-03-18T08:36:44.757574Z",
     "shell.execute_reply": "2021-03-18T08:36:44.757973Z"
    },
    "papermill": {
     "duration": 0.040486,
     "end_time": "2021-03-18T08:36:44.758100",
     "exception": false,
     "start_time": "2021-03-18T08:36:44.717614",
     "status": "completed"
    },
    "tags": [],
    "pycharm": {
     "name": "#%%\n"
    }
   },
   "outputs": [],
   "source": [
    "for name in names:\n",
    "    outputs_tr[name], outputs_te[name] = outputs_tr[name][split_index:], outputs_te[name][split_index:]"
   ]
  },
  {
   "cell_type": "code",
   "execution_count": 17,
   "id": "failing-helena",
   "metadata": {
    "execution": {
     "iopub.execute_input": "2021-03-18T08:36:44.830704Z",
     "iopub.status.busy": "2021-03-18T08:36:44.830280Z",
     "iopub.status.idle": "2021-03-18T08:36:44.843851Z",
     "shell.execute_reply": "2021-03-18T08:36:44.843018Z"
    },
    "papermill": {
     "duration": 0.048875,
     "end_time": "2021-03-18T08:36:44.844059",
     "exception": false,
     "start_time": "2021-03-18T08:36:44.795184",
     "status": "completed"
    },
    "tags": [],
    "pycharm": {
     "name": "#%%\n"
    }
   },
   "outputs": [
    {
     "name": "stdout",
     "output_type": "stream",
     "text": [
      "teacher\n",
      "p-value = 0.0 \t| Mean difference = 1.9664628505706787\n",
      "distillation\n",
      "p-value = 1.6357332356378218e-109 \t| Mean difference = 1.0764296054840088\n",
      "extract-label\n",
      "p-value = 1.2185015221979737e-07 \t| Mean difference = 0.1020580530166626\n",
      "extract-logit\n",
      "p-value = 2.4135333217260383e-10 \t| Mean difference = 0.15179699659347534\n",
      "zero-shot\n",
      "p-value = 3.2766684441051306e-23 \t| Mean difference = 0.3881877064704895\n",
      "fine-tune\n",
      "p-value = 5.264759325597721e-174 \t| Mean difference = 1.4495909214019775\n",
      "pre-act-18\n",
      "p-value = 4.830257288283164e-166 \t| Mean difference = 1.4474780559539795\n",
      "independent\n",
      "p-value = 1.0 \t| Mean difference = -1.766313076019287\n"
     ]
    }
   ],
   "source": [
    "for name in names:\n",
    "    print(f\"{name}\")\n",
    "    print_inference(outputs_tr[name], outputs_te[name])"
   ]
  },
  {
   "cell_type": "markdown",
   "id": "blond-payment",
   "metadata": {
    "papermill": {
     "duration": 0.03092,
     "end_time": "2021-03-18T08:36:44.914273",
     "exception": false,
     "start_time": "2021-03-18T08:36:44.883353",
     "status": "completed"
    },
    "tags": [],
    "pycharm": {
     "name": "#%% md\n"
    }
   },
   "source": [
    "## Main Loop"
   ]
  },
  {
   "cell_type": "code",
   "execution_count": 18,
   "id": "silver-yahoo",
   "metadata": {
    "execution": {
     "iopub.execute_input": "2021-03-18T08:36:44.995124Z",
     "iopub.status.busy": "2021-03-18T08:36:44.994443Z",
     "iopub.status.idle": "2021-03-18T08:36:45.111160Z",
     "shell.execute_reply": "2021-03-18T08:36:45.110046Z"
    },
    "papermill": {
     "duration": 0.166421,
     "end_time": "2021-03-18T08:36:45.111392",
     "exception": false,
     "start_time": "2021-03-18T08:36:44.944971",
     "status": "completed"
    },
    "tags": [],
    "pycharm": {
     "name": "#%%\n"
    }
   },
   "outputs": [],
   "source": [
    "if not os.path.exists(f\"{dataset}_{v_type}.h5\"):\n",
    "    total_reps = 40\n",
    "    max_m = 45\n",
    "    total_inner_rep = 100\n",
    "\n",
    "    m_list = [x for x in range(2, max_m, 1)]\n",
    "    p_values_all_threat_models_dict = {}\n",
    "\n",
    "    n_pbar = tqdm(names, leave=False)\n",
    "    for name in n_pbar:\n",
    "        p_vals_per_rep_no = {}\n",
    "        r_pbar = tqdm(range(total_reps), leave=False)\n",
    "        for rep_no in r_pbar:\n",
    "            p_values_list = []\n",
    "            for m in m_list:\n",
    "                p_list = get_p_values(m, outputs_tr[name], outputs_te[name], total_inner_rep)\n",
    "                try:\n",
    "                    hm = hmean(p_list)\n",
    "                except:\n",
    "                    hm = 1.0\n",
    "                p_values_list.append(hm)\n",
    "                pbar.set_description(f\"{rep_no: 2d} {name} m={m: 3d}: f{hm: 0.5f}\")\n",
    "            r_pbar.set_description(f\"rep_no: {rep_no+1}/{total_reps}\")\n",
    "            p_vals_per_rep_no[rep_no] = p_values_list\n",
    "        p_values_all_threat_models_dict[name] = p_vals_per_rep_no\n",
    "        \n",
    "    df_list = []\n",
    "    for name, rep_dict in p_values_all_threat_models_dict.items():\n",
    "        df = pd.DataFrame(rep_dict).reset_index().assign(m=lambda r: r.index+2).drop([\"index\"], axis=1)\n",
    "        df_list.append(pd.melt(df,id_vars=[\"m\"], var_name=\"rep_no\", value_name=\"p_value\").assign(threat_model=name))\n",
    "    results_df = pd.concat(df_list)\n",
    "    \n",
    "    results_df.to_hdf(f\"{dataset}_{v_type}.h5\", v_type)\n",
    "    results_df\n",
    "else:\n",
    "    results_df = pd.read_hdf(f\"{dataset}_{v_type}.h5\", v_type)"
   ]
  },
  {
   "cell_type": "markdown",
   "id": "selected-hamburg",
   "metadata": {
    "papermill": {
     "duration": 0.032145,
     "end_time": "2021-03-18T08:36:45.183579",
     "exception": false,
     "start_time": "2021-03-18T08:36:45.151434",
     "status": "completed"
    },
    "tags": [],
    "pycharm": {
     "name": "#%% md\n"
    }
   },
   "source": [
    "#### Plotting"
   ]
  },
  {
   "cell_type": "code",
   "execution_count": 19,
   "id": "previous-clearing",
   "metadata": {
    "execution": {
     "iopub.execute_input": "2021-03-18T08:36:45.255351Z",
     "iopub.status.busy": "2021-03-18T08:36:45.254903Z",
     "iopub.status.idle": "2021-03-18T08:36:45.258220Z",
     "shell.execute_reply": "2021-03-18T08:36:45.258830Z"
    },
    "papermill": {
     "duration": 0.043358,
     "end_time": "2021-03-18T08:36:45.259029",
     "exception": false,
     "start_time": "2021-03-18T08:36:45.215671",
     "status": "completed"
    },
    "tags": [],
    "pycharm": {
     "name": "#%%\n"
    }
   },
   "outputs": [],
   "source": [
    "import matplotlib as mpl\n",
    "import matplotlib.pyplot as plt\n",
    "\n",
    "mpl.rcParams['text.latex.preamble'] = r'\\usepackage{times}'\n",
    "\n",
    "plt.rcParams.update({\n",
    "    \"text.usetex\": True,\n",
    "})"
   ]
  },
  {
   "cell_type": "markdown",
   "id": "forbidden-attitude",
   "metadata": {
    "papermill": {
     "duration": 0.031796,
     "end_time": "2021-03-18T08:36:45.330702",
     "exception": false,
     "start_time": "2021-03-18T08:36:45.298906",
     "status": "completed"
    },
    "tags": [],
    "pycharm": {
     "name": "#%% md\n"
    }
   },
   "source": [
    "#### Renaming"
   ]
  },
  {
   "cell_type": "code",
   "execution_count": 20,
   "id": "engaging-theory",
   "metadata": {
    "execution": {
     "iopub.execute_input": "2021-03-18T08:36:45.397708Z",
     "iopub.status.busy": "2021-03-18T08:36:45.397254Z",
     "iopub.status.idle": "2021-03-18T08:36:45.399815Z",
     "shell.execute_reply": "2021-03-18T08:36:45.399471Z"
    },
    "papermill": {
     "duration": 0.037914,
     "end_time": "2021-03-18T08:36:45.399912",
     "exception": false,
     "start_time": "2021-03-18T08:36:45.361998",
     "status": "completed"
    },
    "tags": [],
    "pycharm": {
     "name": "#%%\n"
    }
   },
   "outputs": [],
   "source": [
    "rename_dict = {\n",
    "    \"threat_model\": \"Threat Model\", \n",
    "    \"teacher\": \"Source\", \n",
    "    \"distillation\": \"Distillation\", \n",
    "    \"extract-label\": \"Label-Query\", \n",
    "    \"extract-logit\": \"Logit-Query\", \n",
    "    \"zero-shot\": \"Zero-Shot Learning\",\n",
    "    \"fine-tune\": \"Fine-Tuning\",\n",
    "    \"pre-act-18\": \"Diff. Architecture\",\n",
    "    }"
   ]
  },
  {
   "cell_type": "code",
   "execution_count": 21,
   "id": "junior-being",
   "metadata": {
    "execution": {
     "iopub.execute_input": "2021-03-18T08:36:45.474178Z",
     "iopub.status.busy": "2021-03-18T08:36:45.472912Z",
     "iopub.status.idle": "2021-03-18T08:36:45.505190Z",
     "shell.execute_reply": "2021-03-18T08:36:45.504197Z"
    },
    "papermill": {
     "duration": 0.068966,
     "end_time": "2021-03-18T08:36:45.505442",
     "exception": false,
     "start_time": "2021-03-18T08:36:45.436476",
     "status": "completed"
    },
    "tags": [],
    "pycharm": {
     "name": "#%%\n"
    }
   },
   "outputs": [],
   "source": [
    "plot_df = (results_df.rename(columns=rename_dict).replace(rename_dict)\n",
    "           .query('(m >= 5)')\n",
    "          )"
   ]
  },
  {
   "cell_type": "code",
   "execution_count": 22,
   "id": "hourly-cloud",
   "metadata": {
    "execution": {
     "iopub.execute_input": "2021-03-18T08:36:45.583822Z",
     "iopub.status.busy": "2021-03-18T08:36:45.583230Z",
     "iopub.status.idle": "2021-03-18T08:36:45.585764Z",
     "shell.execute_reply": "2021-03-18T08:36:45.586222Z"
    },
    "papermill": {
     "duration": 0.042938,
     "end_time": "2021-03-18T08:36:45.586376",
     "exception": false,
     "start_time": "2021-03-18T08:36:45.543438",
     "status": "completed"
    },
    "tags": [],
    "pycharm": {
     "name": "#%%\n"
    }
   },
   "outputs": [],
   "source": [
    "# Sizes\n",
    "SMALL_SIZE = 14\n",
    "MEDIUM_SIZE = SMALL_SIZE + 1\n",
    "BIGGER_SIZE = MEDIUM_SIZE + 1\n",
    "plt.rc('font', size=SMALL_SIZE)          # controls default text sizes\n",
    "plt.rc('axes', titlesize=SMALL_SIZE)     # fontsize of the axes title\n",
    "plt.rc('axes', labelsize=MEDIUM_SIZE)    # fontsi ze of the x and y labels\n",
    "plt.rc('xtick', labelsize=SMALL_SIZE)    # fontsize of the tick labels\n",
    "plt.rc('ytick', labelsize=SMALL_SIZE)    # fontsize of the tick labels\n",
    "plt.rc('legend', fontsize=SMALL_SIZE)    # legend fontsize\n",
    "plt.rc('figure', titlesize=BIGGER_SIZE)  # fontsize of the figure title"
   ]
  },
  {
   "cell_type": "code",
   "execution_count": 23,
   "id": "dirty-vulnerability",
   "metadata": {
    "execution": {
     "iopub.execute_input": "2021-03-18T08:36:45.678558Z",
     "iopub.status.busy": "2021-03-18T08:36:45.677379Z",
     "iopub.status.idle": "2021-03-18T08:36:52.135072Z",
     "shell.execute_reply": "2021-03-18T08:36:52.135920Z"
    },
    "papermill": {
     "duration": 6.511977,
     "end_time": "2021-03-18T08:36:52.136195",
     "exception": false,
     "start_time": "2021-03-18T08:36:45.624218",
     "status": "completed"
    },
    "tags": [],
    "pycharm": {
     "name": "#%%\n"
    }
   },
   "outputs": [
    {
     "data": {
      "text/plain": [
       "Text(0, 0.5, 'p-value')"
      ]
     },
     "execution_count": 23,
     "metadata": {},
     "output_type": "execute_result"
    },
    {
     "data": {
      "image/png": "[encoded data removed]",
      "text/plain": [
       "<Figure size 1200x450 with 1 Axes>"
      ]
     },
     "metadata": {
      "needs_background": "light"
     },
     "output_type": "display_data"
    }
   ],
   "source": [
    "fig, ax = plt.subplots(figsize=(8, 3), dpi=150)\n",
    "g = sns.lineplot(x=\"m\", y=\"p_value\", hue=\"Threat Model\", data=plot_df, ax=ax, ci=99)\n",
    "g.axhline(0.05, ls='--', color=\"black\", alpha=0.4)\n",
    "g.axhline(0.01, ls='--', color=\"black\", alpha=0.4)\n",
    "g.set_xlabel(\"Number of Sample Revealed\")\n",
    "g.set_ylabel(\"p-value\")"
   ]
  },
  {
   "cell_type": "markdown",
   "id": "amino-microphone",
   "metadata": {
    "papermill": {
     "duration": 0.034151,
     "end_time": "2021-03-18T08:36:52.210171",
     "exception": false,
     "start_time": "2021-03-18T08:36:52.176020",
     "status": "completed"
    },
    "tags": [],
    "pycharm": {
     "name": "#%% md\n"
    }
   },
   "source": [
    "# Table"
   ]
  },
  {
   "cell_type": "code",
   "execution_count": 24,
   "id": "opposed-inquiry",
   "metadata": {
    "execution": {
     "iopub.execute_input": "2021-03-18T08:36:52.284920Z",
     "iopub.status.busy": "2021-03-18T08:36:52.284288Z",
     "iopub.status.idle": "2021-03-18T08:36:52.667422Z",
     "shell.execute_reply": "2021-03-18T08:36:52.666588Z"
    },
    "papermill": {
     "duration": 0.423721,
     "end_time": "2021-03-18T08:36:52.667630",
     "exception": false,
     "start_time": "2021-03-18T08:36:52.243909",
     "status": "completed"
    },
    "tags": [],
    "pycharm": {
     "name": "#%%\n"
    }
   },
   "outputs": [
    {
     "data": {
      "application/vnd.jupyter.widget-view+json": {
       "model_id": "b7ed2fcdfd204ef094cadacfbb4d7057",
       "version_major": 2,
       "version_minor": 0
      },
      "text/plain": [
       "  0%|          | 0/8 [00:00<?, ?it/s]"
      ]
     },
     "metadata": {},
     "output_type": "display_data"
    }
   ],
   "source": [
    "from utils import generate_table\n",
    "tab = generate_table(selected_m=10, outputs_te=outputs_te, outputs_tr=outputs_tr, names=names)"
   ]
  },
  {
   "cell_type": "code",
   "execution_count": 25,
   "id": "dedicated-proceeding",
   "metadata": {
    "execution": {
     "iopub.execute_input": "2021-03-18T08:36:52.753650Z",
     "iopub.status.busy": "2021-03-18T08:36:52.752941Z",
     "iopub.status.idle": "2021-03-18T08:36:52.756744Z",
     "shell.execute_reply": "2021-03-18T08:36:52.756142Z"
    },
    "papermill": {
     "duration": 0.048732,
     "end_time": "2021-03-18T08:36:52.756901",
     "exception": false,
     "start_time": "2021-03-18T08:36:52.708169",
     "status": "completed"
    },
    "tags": [],
    "pycharm": {
     "name": "#%%\n"
    }
   },
   "outputs": [
    {
     "name": "stdout",
     "output_type": "stream",
     "text": [
      "               mean_diff  p_value\n",
      "teacher            1.967    0.000\n",
      "distillation       1.098    0.000\n",
      "pre-act-18         1.471    0.000\n",
      "zero-shot          0.405    0.030\n",
      "fine-tune          1.423    0.000\n",
      "extract-label      0.107    0.170\n",
      "extract-logit      0.184    0.114\n",
      "independent       -1.793    1.000\n"
     ]
    }
   ],
   "source": [
    "with pd.option_context(\"display.float_format\", lambda x: f\"{x: 0.3f}\"):\n",
    "    print(tab)"
   ]
  },
  {
   "cell_type": "code",
   "execution_count": 26,
   "id": "excess-plane",
   "metadata": {
    "execution": {
     "iopub.execute_input": "2021-03-18T08:36:52.843959Z",
     "iopub.status.busy": "2021-03-18T08:36:52.840138Z",
     "iopub.status.idle": "2021-03-18T08:36:52.848269Z",
     "shell.execute_reply": "2021-03-18T08:36:52.847437Z"
    },
    "papermill": {
     "duration": 0.050581,
     "end_time": "2021-03-18T08:36:52.848479",
     "exception": false,
     "start_time": "2021-03-18T08:36:52.797898",
     "status": "completed"
    },
    "tags": [],
    "pycharm": {
     "name": "#%%\n"
    }
   },
   "outputs": [
    {
     "name": "stdout",
     "output_type": "stream",
     "text": [
      "\\begin{tabular}{lrr}\n",
      "\\toprule\n",
      "{} & mean_diff &    p_value \\\\\n",
      "\\midrule\n",
      "teacher       &     1.967 & $10^{-44}$ \\\\\n",
      "distillation  &     1.098 & $10^{-05}$ \\\\\n",
      "pre-act-18    &     1.471 & $10^{-14}$ \\\\\n",
      "zero-shot     &     0.405 & $10^{-02}$ \\\\\n",
      "fine-tune     &     1.423 & $10^{-10}$ \\\\\n",
      "extract-label &     0.107 & $10^{-01}$ \\\\\n",
      "extract-logit &     0.184 & $10^{-01}$ \\\\\n",
      "independent   &    -1.793 & $10^{+00}$ \\\\\n",
      "\\bottomrule\n",
      "\\end{tabular}\n",
      "\n"
     ]
    }
   ],
   "source": [
    "with pd.option_context(\"display.float_format\", lambda x: f\"{x: 0.3f}\"):\n",
    "    print(tab.to_latex(formatters=dict(mean_diff=\"{:0.3f}\".format, p_value=lambda x: \"$10^{\"+f\"{x:0.0E}\"[2:]+\"}$\"), escape=False))"
   ]
  }
 ],
 "metadata": {
  "celltoolbar": "Tags",
  "kernelspec": {
   "display_name": "Python 3",
   "language": "python",
   "name": "python3"
  },
  "language_info": {
   "codemirror_mode": {
    "name": "ipython",
    "version": 3
   },
   "file_extension": ".py",
   "mimetype": "text/x-python",
   "name": "python",
   "nbconvert_exporter": "python",
   "pygments_lexer": "ipython3",
   "version": "3.8.3"
  },
  "papermill": {
   "default_parameters": {},
   "duration": 16.022125,
   "end_time": "2021-03-18T08:36:53.503518",
   "environment_variables": {},
   "exception": null,
   "input_path": "./template.ipynb",
   "output_path": "./notebooks/CIFAR100_rand.ipynb",
   "parameters": {
    "dataset": "CIFAR100",
    "params_path": "/home/mohammad/transferability/src",
    "root_path": "/home/mohammad/transferability/files",
    "split_index": 500,
    "v_type": "rand"
   },
   "start_time": "2021-03-18T08:36:37.481393",
   "version": "2.3.3"
  },
  "widgets": {
   "application/vnd.jupyter.widget-state+json": {
    "state": {
     "005a6ad3adb645c38bb40975ce114d53": {
      "model_module": "@jupyter-widgets/base",
      "model_module_version": "1.2.0",
      "model_name": "LayoutModel",
      "state": {
       "_model_module": "@jupyter-widgets/base",
       "_model_module_version": "1.2.0",
       "_model_name": "LayoutModel",
       "_view_count": null,
       "_view_module": "@jupyter-widgets/base",
       "_view_module_version": "1.2.0",
       "_view_name": "LayoutView",
       "align_content": null,
       "align_items": null,
       "align_self": null,
       "border": null,
       "bottom": null,
       "display": null,
       "flex": null,
       "flex_flow": null,
       "grid_area": null,
       "grid_auto_columns": null,
       "grid_auto_flow": null,
       "grid_auto_rows": null,
       "grid_column": null,
       "grid_gap": null,
       "grid_row": null,
       "grid_template_areas": null,
       "grid_template_columns": null,
       "grid_template_rows": null,
       "height": null,
       "justify_content": null,
       "justify_items": null,
       "left": null,
       "margin": null,
       "max_height": null,
       "max_width": null,
       "min_height": null,
       "min_width": null,
       "object_fit": null,
       "object_position": null,
       "order": null,
       "overflow": null,
       "overflow_x": null,
       "overflow_y": null,
       "padding": null,
       "right": null,
       "top": null,
       "visibility": null,
       "width": null
      }
     },
     "0e6b696ebff743a691a526646c6334be": {
      "model_module": "@jupyter-widgets/base",
      "model_module_version": "1.2.0",
      "model_name": "LayoutModel",
      "state": {
       "_model_module": "@jupyter-widgets/base",
       "_model_module_version": "1.2.0",
       "_model_name": "LayoutModel",
       "_view_count": null,
       "_view_module": "@jupyter-widgets/base",
       "_view_module_version": "1.2.0",
       "_view_name": "LayoutView",
       "align_content": null,
       "align_items": null,
       "align_self": null,
       "border": null,
       "bottom": null,
       "display": null,
       "flex": null,
       "flex_flow": null,
       "grid_area": null,
       "grid_auto_columns": null,
       "grid_auto_flow": null,
       "grid_auto_rows": null,
       "grid_column": null,
       "grid_gap": null,
       "grid_row": null,
       "grid_template_areas": null,
       "grid_template_columns": null,
       "grid_template_rows": null,
       "height": null,
       "justify_content": null,
       "justify_items": null,
       "left": null,
       "margin": null,
       "max_height": null,
       "max_width": null,
       "min_height": null,
       "min_width": null,
       "object_fit": null,
       "object_position": null,
       "order": null,
       "overflow": null,
       "overflow_x": null,
       "overflow_y": null,
       "padding": null,
       "right": null,
       "top": null,
       "visibility": null,
       "width": null
      }
     },
     "19033d45a471430f8fea54fae7b5eb8d": {
      "model_module": "@jupyter-widgets/base",
      "model_module_version": "1.2.0",
      "model_name": "LayoutModel",
      "state": {
       "_model_module": "@jupyter-widgets/base",
       "_model_module_version": "1.2.0",
       "_model_name": "LayoutModel",
       "_view_count": null,
       "_view_module": "@jupyter-widgets/base",
       "_view_module_version": "1.2.0",
       "_view_name": "LayoutView",
       "align_content": null,
       "align_items": null,
       "align_self": null,
       "border": null,
       "bottom": null,
       "display": null,
       "flex": null,
       "flex_flow": null,
       "grid_area": null,
       "grid_auto_columns": null,
       "grid_auto_flow": null,
       "grid_auto_rows": null,
       "grid_column": null,
       "grid_gap": null,
       "grid_row": null,
       "grid_template_areas": null,
       "grid_template_columns": null,
       "grid_template_rows": null,
       "height": null,
       "justify_content": null,
       "justify_items": null,
       "left": null,
       "margin": null,
       "max_height": null,
       "max_width": null,
       "min_height": null,
       "min_width": null,
       "object_fit": null,
       "object_position": null,
       "order": null,
       "overflow": null,
       "overflow_x": null,
       "overflow_y": null,
       "padding": null,
       "right": null,
       "top": null,
       "visibility": null,
       "width": null
      }
     },
     "1ab5e9cbde2a4a8ab34a1a2cd14d075b": {
      "model_module": "@jupyter-widgets/controls",
      "model_module_version": "1.5.0",
      "model_name": "HTMLModel",
      "state": {
       "_dom_classes": [],
       "_model_module": "@jupyter-widgets/controls",
       "_model_module_version": "1.5.0",
       "_model_name": "HTMLModel",
       "_view_count": null,
       "_view_module": "@jupyter-widgets/controls",
       "_view_module_version": "1.5.0",
       "_view_name": "HTMLView",
       "description": "",
       "description_tooltip": null,
       "layout": "IPY_MODEL_1c3c26f5803844c0915092a8d52b554f",
       "placeholder": "​",
       "style": "IPY_MODEL_b9a9f7f315454cb681587bbda5979b9f",
       "value": "loss -0.994483470916748: 100%"
      }
     },
     "1c3c26f5803844c0915092a8d52b554f": {
      "model_module": "@jupyter-widgets/base",
      "model_module_version": "1.2.0",
      "model_name": "LayoutModel",
      "state": {
       "_model_module": "@jupyter-widgets/base",
       "_model_module_version": "1.2.0",
       "_model_name": "LayoutModel",
       "_view_count": null,
       "_view_module": "@jupyter-widgets/base",
       "_view_module_version": "1.2.0",
       "_view_name": "LayoutView",
       "align_content": null,
       "align_items": null,
       "align_self": null,
       "border": null,
       "bottom": null,
       "display": null,
       "flex": null,
       "flex_flow": null,
       "grid_area": null,
       "grid_auto_columns": null,
       "grid_auto_flow": null,
       "grid_auto_rows": null,
       "grid_column": null,
       "grid_gap": null,
       "grid_row": null,
       "grid_template_areas": null,
       "grid_template_columns": null,
       "grid_template_rows": null,
       "height": null,
       "justify_content": null,
       "justify_items": null,
       "left": null,
       "margin": null,
       "max_height": null,
       "max_width": null,
       "min_height": null,
       "min_width": null,
       "object_fit": null,
       "object_position": null,
       "order": null,
       "overflow": null,
       "overflow_x": null,
       "overflow_y": null,
       "padding": null,
       "right": null,
       "top": null,
       "visibility": null,
       "width": null
      }
     },
     "2c2f199af901445385f50f738ca4b622": {
      "model_module": "@jupyter-widgets/base",
      "model_module_version": "1.2.0",
      "model_name": "LayoutModel",
      "state": {
       "_model_module": "@jupyter-widgets/base",
       "_model_module_version": "1.2.0",
       "_model_name": "LayoutModel",
       "_view_count": null,
       "_view_module": "@jupyter-widgets/base",
       "_view_module_version": "1.2.0",
       "_view_name": "LayoutView",
       "align_content": null,
       "align_items": null,
       "align_self": null,
       "border": null,
       "bottom": null,
       "display": null,
       "flex": null,
       "flex_flow": null,
       "grid_area": null,
       "grid_auto_columns": null,
       "grid_auto_flow": null,
       "grid_auto_rows": null,
       "grid_column": null,
       "grid_gap": null,
       "grid_row": null,
       "grid_template_areas": null,
       "grid_template_columns": null,
       "grid_template_rows": null,
       "height": null,
       "justify_content": null,
       "justify_items": null,
       "left": null,
       "margin": null,
       "max_height": null,
       "max_width": null,
       "min_height": null,
       "min_width": null,
       "object_fit": null,
       "object_position": null,
       "order": null,
       "overflow": null,
       "overflow_x": null,
       "overflow_y": null,
       "padding": null,
       "right": null,
       "top": null,
       "visibility": null,
       "width": null
      }
     },
     "33c7f6f0978a46278b0a48304da68996": {
      "model_module": "@jupyter-widgets/base",
      "model_module_version": "1.2.0",
      "model_name": "LayoutModel",
      "state": {
       "_model_module": "@jupyter-widgets/base",
       "_model_module_version": "1.2.0",
       "_model_name": "LayoutModel",
       "_view_count": null,
       "_view_module": "@jupyter-widgets/base",
       "_view_module_version": "1.2.0",
       "_view_name": "LayoutView",
       "align_content": null,
       "align_items": null,
       "align_self": null,
       "border": null,
       "bottom": null,
       "display": null,
       "flex": null,
       "flex_flow": null,
       "grid_area": null,
       "grid_auto_columns": null,
       "grid_auto_flow": null,
       "grid_auto_rows": null,
       "grid_column": null,
       "grid_gap": null,
       "grid_row": null,
       "grid_template_areas": null,
       "grid_template_columns": null,
       "grid_template_rows": null,
       "height": null,
       "justify_content": null,
       "justify_items": null,
       "left": null,
       "margin": null,
       "max_height": null,
       "max_width": null,
       "min_height": null,
       "min_width": null,
       "object_fit": null,
       "object_position": null,
       "order": null,
       "overflow": null,
       "overflow_x": null,
       "overflow_y": null,
       "padding": null,
       "right": null,
       "top": null,
       "visibility": null,
       "width": null
      }
     },
     "3415de4396d34269abe7b465ed27f822": {
      "model_module": "@jupyter-widgets/controls",
      "model_module_version": "1.5.0",
      "model_name": "FloatProgressModel",
      "state": {
       "_dom_classes": [],
       "_model_module": "@jupyter-widgets/controls",
       "_model_module_version": "1.5.0",
       "_model_name": "FloatProgressModel",
       "_view_count": null,
       "_view_module": "@jupyter-widgets/controls",
       "_view_module_version": "1.5.0",
       "_view_name": "ProgressView",
       "bar_style": "success",
       "description": "",
       "description_tooltip": null,
       "layout": "IPY_MODEL_005a6ad3adb645c38bb40975ce114d53",
       "max": 1000.0,
       "min": 0.0,
       "orientation": "horizontal",
       "style": "IPY_MODEL_3c3c581b18b6422ea05363a53fec99c3",
       "value": 1000.0
      }
     },
     "3c3c581b18b6422ea05363a53fec99c3": {
      "model_module": "@jupyter-widgets/controls",
      "model_module_version": "1.5.0",
      "model_name": "ProgressStyleModel",
      "state": {
       "_model_module": "@jupyter-widgets/controls",
       "_model_module_version": "1.5.0",
       "_model_name": "ProgressStyleModel",
       "_view_count": null,
       "_view_module": "@jupyter-widgets/base",
       "_view_module_version": "1.2.0",
       "_view_name": "StyleView",
       "bar_color": null,
       "description_width": ""
      }
     },
     "4b43a459395145ed9c8d31964e933a7d": {
      "model_module": "@jupyter-widgets/controls",
      "model_module_version": "1.5.0",
      "model_name": "HTMLModel",
      "state": {
       "_dom_classes": [],
       "_model_module": "@jupyter-widgets/controls",
       "_model_module_version": "1.5.0",
       "_model_name": "HTMLModel",
       "_view_count": null,
       "_view_module": "@jupyter-widgets/controls",
       "_view_module_version": "1.5.0",
       "_view_name": "HTMLView",
       "description": "",
       "description_tooltip": null,
       "layout": "IPY_MODEL_0e6b696ebff743a691a526646c6334be",
       "placeholder": "​",
       "style": "IPY_MODEL_619212c76ed24cbbbe7b18f640b0d332",
       "value": "100%"
      }
     },
     "4c79693c134d4638a4183efff5cb5ca8": {
      "model_module": "@jupyter-widgets/controls",
      "model_module_version": "1.5.0",
      "model_name": "HBoxModel",
      "state": {
       "_dom_classes": [],
       "_model_module": "@jupyter-widgets/controls",
       "_model_module_version": "1.5.0",
       "_model_name": "HBoxModel",
       "_view_count": null,
       "_view_module": "@jupyter-widgets/controls",
       "_view_module_version": "1.5.0",
       "_view_name": "HBoxView",
       "box_style": "",
       "children": [
        "IPY_MODEL_1ab5e9cbde2a4a8ab34a1a2cd14d075b",
        "IPY_MODEL_3415de4396d34269abe7b465ed27f822",
        "IPY_MODEL_73cf298b3ea64febb8c0f4ffb177d950"
       ],
       "layout": "IPY_MODEL_19033d45a471430f8fea54fae7b5eb8d"
      }
     },
     "51e6955fdb79494091e6dd748b83961f": {
      "model_module": "@jupyter-widgets/controls",
      "model_module_version": "1.5.0",
      "model_name": "HTMLModel",
      "state": {
       "_dom_classes": [],
       "_model_module": "@jupyter-widgets/controls",
       "_model_module_version": "1.5.0",
       "_model_name": "HTMLModel",
       "_view_count": null,
       "_view_module": "@jupyter-widgets/controls",
       "_view_module_version": "1.5.0",
       "_view_name": "HTMLView",
       "description": "",
       "description_tooltip": null,
       "layout": "IPY_MODEL_610546b29e294a00b95f05f93e45b085",
       "placeholder": "​",
       "style": "IPY_MODEL_ff3562841cbc4fcaa074acfacb3fd77b",
       "value": " 8/8 [00:00&lt;00:00, 22.14it/s]"
      }
     },
     "610546b29e294a00b95f05f93e45b085": {
      "model_module": "@jupyter-widgets/base",
      "model_module_version": "1.2.0",
      "model_name": "LayoutModel",
      "state": {
       "_model_module": "@jupyter-widgets/base",
       "_model_module_version": "1.2.0",
       "_model_name": "LayoutModel",
       "_view_count": null,
       "_view_module": "@jupyter-widgets/base",
       "_view_module_version": "1.2.0",
       "_view_name": "LayoutView",
       "align_content": null,
       "align_items": null,
       "align_self": null,
       "border": null,
       "bottom": null,
       "display": null,
       "flex": null,
       "flex_flow": null,
       "grid_area": null,
       "grid_auto_columns": null,
       "grid_auto_flow": null,
       "grid_auto_rows": null,
       "grid_column": null,
       "grid_gap": null,
       "grid_row": null,
       "grid_template_areas": null,
       "grid_template_columns": null,
       "grid_template_rows": null,
       "height": null,
       "justify_content": null,
       "justify_items": null,
       "left": null,
       "margin": null,
       "max_height": null,
       "max_width": null,
       "min_height": null,
       "min_width": null,
       "object_fit": null,
       "object_position": null,
       "order": null,
       "overflow": null,
       "overflow_x": null,
       "overflow_y": null,
       "padding": null,
       "right": null,
       "top": null,
       "visibility": null,
       "width": null
      }
     },
     "619212c76ed24cbbbe7b18f640b0d332": {
      "model_module": "@jupyter-widgets/controls",
      "model_module_version": "1.5.0",
      "model_name": "DescriptionStyleModel",
      "state": {
       "_model_module": "@jupyter-widgets/controls",
       "_model_module_version": "1.5.0",
       "_model_name": "DescriptionStyleModel",
       "_view_count": null,
       "_view_module": "@jupyter-widgets/base",
       "_view_module_version": "1.2.0",
       "_view_name": "StyleView",
       "description_width": ""
      }
     },
     "6b3176f90fcd420eaa1f45115ad2d1e7": {
      "model_module": "@jupyter-widgets/base",
      "model_module_version": "1.2.0",
      "model_name": "LayoutModel",
      "state": {
       "_model_module": "@jupyter-widgets/base",
       "_model_module_version": "1.2.0",
       "_model_name": "LayoutModel",
       "_view_count": null,
       "_view_module": "@jupyter-widgets/base",
       "_view_module_version": "1.2.0",
       "_view_name": "LayoutView",
       "align_content": null,
       "align_items": null,
       "align_self": null,
       "border": null,
       "bottom": null,
       "display": null,
       "flex": null,
       "flex_flow": null,
       "grid_area": null,
       "grid_auto_columns": null,
       "grid_auto_flow": null,
       "grid_auto_rows": null,
       "grid_column": null,
       "grid_gap": null,
       "grid_row": null,
       "grid_template_areas": null,
       "grid_template_columns": null,
       "grid_template_rows": null,
       "height": null,
       "justify_content": null,
       "justify_items": null,
       "left": null,
       "margin": null,
       "max_height": null,
       "max_width": null,
       "min_height": null,
       "min_width": null,
       "object_fit": null,
       "object_position": null,
       "order": null,
       "overflow": null,
       "overflow_x": null,
       "overflow_y": null,
       "padding": null,
       "right": null,
       "top": null,
       "visibility": null,
       "width": null
      }
     },
     "73cf298b3ea64febb8c0f4ffb177d950": {
      "model_module": "@jupyter-widgets/controls",
      "model_module_version": "1.5.0",
      "model_name": "HTMLModel",
      "state": {
       "_dom_classes": [],
       "_model_module": "@jupyter-widgets/controls",
       "_model_module_version": "1.5.0",
       "_model_name": "HTMLModel",
       "_view_count": null,
       "_view_module": "@jupyter-widgets/controls",
       "_view_module_version": "1.5.0",
       "_view_name": "HTMLView",
       "description": "",
       "description_tooltip": null,
       "layout": "IPY_MODEL_6b3176f90fcd420eaa1f45115ad2d1e7",
       "placeholder": "​",
       "style": "IPY_MODEL_ce3a245f66cf4716bb48eee0f3e97873",
       "value": " 1000/1000 [00:03&lt;00:00, 378.02it/s]"
      }
     },
     "7e81a87585ff4e89bb39420115cda6e1": {
      "model_module": "@jupyter-widgets/controls",
      "model_module_version": "1.5.0",
      "model_name": "FloatProgressModel",
      "state": {
       "_dom_classes": [],
       "_model_module": "@jupyter-widgets/controls",
       "_model_module_version": "1.5.0",
       "_model_name": "FloatProgressModel",
       "_view_count": null,
       "_view_module": "@jupyter-widgets/controls",
       "_view_module_version": "1.5.0",
       "_view_name": "ProgressView",
       "bar_style": "",
       "description": "",
       "description_tooltip": null,
       "layout": "IPY_MODEL_33c7f6f0978a46278b0a48304da68996",
       "max": 8.0,
       "min": 0.0,
       "orientation": "horizontal",
       "style": "IPY_MODEL_8248f9fbed554027a1fd51d48608ea23",
       "value": 8.0
      }
     },
     "8248f9fbed554027a1fd51d48608ea23": {
      "model_module": "@jupyter-widgets/controls",
      "model_module_version": "1.5.0",
      "model_name": "ProgressStyleModel",
      "state": {
       "_model_module": "@jupyter-widgets/controls",
       "_model_module_version": "1.5.0",
       "_model_name": "ProgressStyleModel",
       "_view_count": null,
       "_view_module": "@jupyter-widgets/base",
       "_view_module_version": "1.2.0",
       "_view_name": "StyleView",
       "bar_color": null,
       "description_width": ""
      }
     },
     "b7ed2fcdfd204ef094cadacfbb4d7057": {
      "model_module": "@jupyter-widgets/controls",
      "model_module_version": "1.5.0",
      "model_name": "HBoxModel",
      "state": {
       "_dom_classes": [],
       "_model_module": "@jupyter-widgets/controls",
       "_model_module_version": "1.5.0",
       "_model_name": "HBoxModel",
       "_view_count": null,
       "_view_module": "@jupyter-widgets/controls",
       "_view_module_version": "1.5.0",
       "_view_name": "HBoxView",
       "box_style": "",
       "children": [
        "IPY_MODEL_4b43a459395145ed9c8d31964e933a7d",
        "IPY_MODEL_7e81a87585ff4e89bb39420115cda6e1",
        "IPY_MODEL_51e6955fdb79494091e6dd748b83961f"
       ],
       "layout": "IPY_MODEL_2c2f199af901445385f50f738ca4b622"
      }
     },
     "b9a9f7f315454cb681587bbda5979b9f": {
      "model_module": "@jupyter-widgets/controls",
      "model_module_version": "1.5.0",
      "model_name": "DescriptionStyleModel",
      "state": {
       "_model_module": "@jupyter-widgets/controls",
       "_model_module_version": "1.5.0",
       "_model_name": "DescriptionStyleModel",
       "_view_count": null,
       "_view_module": "@jupyter-widgets/base",
       "_view_module_version": "1.2.0",
       "_view_name": "StyleView",
       "description_width": ""
      }
     },
     "ce3a245f66cf4716bb48eee0f3e97873": {
      "model_module": "@jupyter-widgets/controls",
      "model_module_version": "1.5.0",
      "model_name": "DescriptionStyleModel",
      "state": {
       "_model_module": "@jupyter-widgets/controls",
       "_model_module_version": "1.5.0",
       "_model_name": "DescriptionStyleModel",
       "_view_count": null,
       "_view_module": "@jupyter-widgets/base",
       "_view_module_version": "1.2.0",
       "_view_name": "StyleView",
       "description_width": ""
      }
     },
     "ff3562841cbc4fcaa074acfacb3fd77b": {
      "model_module": "@jupyter-widgets/controls",
      "model_module_version": "1.5.0",
      "model_name": "DescriptionStyleModel",
      "state": {
       "_model_module": "@jupyter-widgets/controls",
       "_model_module_version": "1.5.0",
       "_model_name": "DescriptionStyleModel",
       "_view_count": null,
       "_view_module": "@jupyter-widgets/base",
       "_view_module_version": "1.2.0",
       "_view_name": "StyleView",
       "description_width": ""
      }
     }
    },
    "version_major": 2,
    "version_minor": 0
   }
  }
 },
 "nbformat": 4,
 "nbformat_minor": 5
}
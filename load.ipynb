{
 "cells": [
  {
   "cell_type": "code",
   "execution_count": null,
   "metadata": {
    "collapsed": true,
    "pycharm": {
     "name": "#%%\n"
    }
   },
   "outputs": [],
   "source": [
    "import sys\n",
    "sys.path.append('')\n",
    "from src.funcs import get_dataloaders\n",
    "from funcs import *"
   ]
  },
  {
   "cell_type": "code",
   "execution_count": null,
   "outputs": [],
   "source": [
    "import argparse\n",
    "\n",
    "parse = argparse.ArgumentParser()\n",
    "parse.add_argument('--dataset_path', type=str, default='../StealingVerification-main/data/cifar10/',\n",
    "                   help=\"dataset path\")\n",
    "parse.add_argument('--dataset', type=str, default='CIFAR10', choices=['CIFAR10', 'self'], help=\"dataset的名称\")\n",
    "parse.add_argument('--mode', type=str, default='teacher', help=\"训练方式（暂时不要修改）\")\n",
    "parse.add_argument('--model_id', type=str, default='0', help=\"模型名称，关系到保存地址\")\n",
    "parse.add_argument('--batch_size', type=int, default=128)\n",
    "parse.add_argument('--epoch', type=int, default=135)\n",
    "parse.add_argument('--device', type=str, default='cuda')\n",
    "parse.add_argument('--learning_rate', type=float, default=0.01)\n",
    "parse.add_argument('--save_path', type=str, default='./model_train/', help=\"保存的大路径\")\n",
    "parse.add_argument('--model_root', type=str, default='', help=\"模型地址\")\n",
    "parse.add_argument('--num_classes', type=int, default=10)\n",
    "parse.add_argument('--normalize', type=int, default=1)\n",
    "args = parse.parse_args(args=['--dataset_path', '../StealingVerification-main/data/cifar10_seurat_10%/',\n",
    "                              '--dataset', 'CIFAR10',\n",
    "                              '--mode', 'teacher',\n",
    "                              '--model_id', 'test',\n",
    "                              '--batch_size', '128',\n",
    "                              '--epoch', '100',\n",
    "                              '--device', 'cuda',\n",
    "                              '--learning_rate', '0.1',\n",
    "                              '--save_path', './trained/',\n",
    "                              '--model_root', '../dataset-inference-main/models/CIFAR10/model_standard_independent_normalized',\n",
    "                              '--num_classes', '10',\n",
    "                              '--normalize', '1'])\n",
    "\n",
    "print(args)"
   ],
   "metadata": {
    "collapsed": false,
    "pycharm": {
     "name": "#%%\n"
    }
   }
  },
  {
   "cell_type": "code",
   "execution_count": null,
   "outputs": [],
   "source": [
    "train_loader, test_loader = get_dataloaders(args.dataset, args.batch_size, pseudo_labels = False, train_shuffle = False)\n",
    "student, _ = get_student_teacher(args)\n",
    "location = f\"{args.model_dir}/final.pt\"\n",
    "student = student.to(args.device)\n",
    "student.load_state_dict(torch.load(location, map_location = args.device))"
   ],
   "metadata": {
    "collapsed": false,
    "pycharm": {
     "name": "#%%\n"
    }
   }
  },
  {
   "cell_type": "code",
   "execution_count": null,
   "outputs": [],
   "source": [
    "import sys\n",
    "sys.path.append('../dataset-inference-main/src')\n",
    "from train import epoch_test"
   ],
   "metadata": {
    "collapsed": false,
    "pycharm": {
     "name": "#%%\n"
    }
   }
  }
 ],
 "metadata": {
  "kernelspec": {
   "display_name": "Python 3",
   "language": "python",
   "name": "python3"
  },
  "language_info": {
   "codemirror_mode": {
    "name": "ipython",
    "version": 2
   },
   "file_extension": ".py",
   "mimetype": "text/x-python",
   "name": "python",
   "nbconvert_exporter": "python",
   "pygments_lexer": "ipython2",
   "version": "2.7.6"
  }
 },
 "nbformat": 4,
 "nbformat_minor": 0
}